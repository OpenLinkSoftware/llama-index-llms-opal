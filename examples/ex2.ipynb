{
 "cells": [
  {
   "cell_type": "code",
   "execution_count": 5,
   "metadata": {},
   "outputs": [
    {
     "name": "stdout",
     "output_type": "stream",
     "text": [
      "models = ('gpt-4o', 'gpt-4-vision-preview', 'gpt-4-turbo-preview', 'gpt-4-turbo', 'gpt-4-1106-preview', 'gpt-4-0613', 'gpt-4-0314', 'gpt-4-0125-preview', 'gpt-4', 'gpt-3.5-turbo-16k-0613', 'gpt-3.5-turbo-16k', 'gpt-3.5-turbo-1106', 'gpt-3.5-turbo-0613', 'gpt-3.5-turbo-0301', 'gpt-3.5-turbo-0125', 'gpt-3.5-turbo', 'ft:gpt-3.5-turbo-0125:openlink-software::939ZpZid', 'ft:gpt-3.5-turbo-0125:openlink-software::938VNgt1', 'dall-e-3', 'dall-e-2')\n",
      "functions = ('DB.DBA.graphqlQuery', 'DB.DBA.graphqlEndpointQuery', 'UB.DBA.uda_howto', 'UB.DBA.sparqlQuery', 'DB.DBA.vos_howto_search', 'Demo.demo.execute_sql_query', 'Demo.demo.execute_spasql_query')\n",
      "finetunes = ('system-virtuoso-support-assistant-config', 'system-virtuososupportassistantconfiglast', 'system-uda-support-assistant-config', 'system-udasupportassistantconfigtemp', 'system-www-support-assistant-config', 'system-data-twingler-config')\n"
     ]
    }
   ],
   "source": [
    "import os\n",
    "os.environ[\"OPENAI_API_KEY\"] = \"sk-xxxxxxxxxxxxxxxxxxxxxxx\"\n",
    "os.environ[\"OPENLINK_API_KEY\"] = \"xxxxxxxxxxxxxxxxxxxxxxxxxxxxxxxxxxxxxxxxx\"\n",
    "\n",
    "from llama_index.llms.opal import OPAL, OPAL_MODELS, OPAL_FUNCTIONS, OPAL_FINETUNES\n",
    "\n",
    "print(\"models = \" + str(OPAL_MODELS))\n",
    "print(\"functions = \" + str(OPAL_FUNCTIONS))\n",
    "print(\"finetunes = \" + str(OPAL_FINETUNES))\n",
    "\n"
   ]
  },
  {
   "cell_type": "code",
   "execution_count": 6,
   "metadata": {},
   "outputs": [
    {
     "name": "stdout",
     "output_type": "stream",
     "text": [
      "To install Virtuoso DBMS on Linux, you can follow the detailed steps provided in the official documentation. Here are some useful links that might help you with the installation process:\n",
      "\n",
      "1. [VOSNews](http://vos.openlinksw.com/dataspace/owiki/wiki/VOS/VOSNews)\n",
      "2. [VirtPayAsYouGoEBSBackedAMI](http://vos.openlinksw.com/dataspace/owiki/wiki/VOS/VirtPayAsYouGoEBSBackedAMI)\n",
      "3. [VirtDBpediaSnapshotPagoAmi](http://vos.openlinksw.com/dataspace/owiki/wiki/VOS/VirtDBpediaSnapshotPagoAmi)\n",
      "\n",
      "Please refer to these resources for comprehensive guides and updates on installing Virtuoso DBMS on Linux. If you need further assistance or specific step-by-step instructions, feel free to ask!\n"
     ]
    }
   ],
   "source": [
    "llm = OPAL(\n",
    "    model=\"gpt-4o\",\n",
    "    finetune=\"system-virtuoso-support-assistant-config\",\n",
    "    funcs_list=[\"DB.DBA.vos_howto_search\",'DB.DBA.vos_howto_search'],\n",
    "    temperature=0.2,\n",
    "    top_p=0.5,\n",
    "    )\n",
    "\n",
    "resp = llm.complete(\"How to install Virtuoso DBMS on Linux\")\n",
    "print(resp)\n"
   ]
  }
 ],
 "metadata": {
  "kernelspec": {
   "display_name": "Python 3",
   "language": "python",
   "name": "python3"
  },
  "language_info": {
   "codemirror_mode": {
    "name": "ipython",
    "version": 3
   },
   "file_extension": ".py",
   "mimetype": "text/x-python",
   "name": "python",
   "nbconvert_exporter": "python",
   "pygments_lexer": "ipython3",
   "version": "3.12.3"
  }
 },
 "nbformat": 4,
 "nbformat_minor": 2
}
