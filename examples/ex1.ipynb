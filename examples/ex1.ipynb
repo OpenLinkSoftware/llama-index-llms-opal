{
 "cells": [
  {
   "cell_type": "markdown",
   "metadata": {},
   "source": [
    "Install necessary packages:\n",
    "\n",
    "```\n",
    "pip install llama-index\n",
    "pip install git+https://github.com/OpenLinkSoftware/llama-index-llms-opal.git\n",
    "```"
   ]
  },
  {
   "cell_type": "code",
   "execution_count": 1,
   "metadata": {},
   "outputs": [
    {
     "name": "stdout",
     "output_type": "stream",
     "text": [
      "It appears that there are no specific \"HowTo\" documents related to Paul Graham in the current knowledge graph.\n",
      "\n",
      "Would you like to perform a different type of query or need information on another topic?\n"
     ]
    }
   ],
   "source": [
    "import os\n",
    "os.environ[\"OPENAI_API_KEY\"] = \"sk-xxxxxxxxxxxxxxxxxx\"\n",
    "os.environ[\"OPENLINK_API_KEY\"] = \"xxxxxxxxxxxxxxxxxxxxxxxxxxxxxxxxxxxxx\"\n",
    "\n",
    "from llama_index.llms.opal import OPAL\n",
    "\n",
    "llm = OPAL()\n",
    "resp = llm.complete(\"Paul Graham is\")\n",
    "print(resp)\n"
   ]
  }
 ],
 "metadata": {
  "kernelspec": {
   "display_name": "Python 3",
   "language": "python",
   "name": "python3"
  },
  "language_info": {
   "codemirror_mode": {
    "name": "ipython",
    "version": 3
   },
   "file_extension": ".py",
   "mimetype": "text/x-python",
   "name": "python",
   "nbconvert_exporter": "python",
   "pygments_lexer": "ipython3",
   "version": "3.12.3"
  }
 },
 "nbformat": 4,
 "nbformat_minor": 2
}
