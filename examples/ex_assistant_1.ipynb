{
 "cells": [
  {
   "cell_type": "markdown",
   "metadata": {},
   "source": [
    "Install necessary packages:\n",
    "\n",
    "```\n",
    "pip install llama-index\n",
    "pip install git+https://github.com/OpenLinkSoftware/llama-index-llms-opal.git\n",
    "```"
   ]
  },
  {
   "cell_type": "code",
   "execution_count": 8,
   "metadata": {},
   "outputs": [
    {
     "name": "stdout",
     "output_type": "stream",
     "text": [
      "Defaulting to user installation because normal site-packages is not writeable\n",
      "Collecting git+https://github.com/OpenLinkSoftware/llama-index-llms-opal.git\n",
      "  Cloning https://github.com/OpenLinkSoftware/llama-index-llms-opal.git to /tmp/pip-req-build-ljvszkex\n",
      "  Running command git clone --filter=blob:none --quiet https://github.com/OpenLinkSoftware/llama-index-llms-opal.git /tmp/pip-req-build-ljvszkex\n",
      "  Resolved https://github.com/OpenLinkSoftware/llama-index-llms-opal.git to commit f8bbadca0675129ef9d21ac7e7d89283a44d7927\n",
      "  Preparing metadata (setup.py) ... \u001b[?25ldone\n",
      "\u001b[?25hRequirement already satisfied: httpx in /home/sergei/.local/lib/python3.10/site-packages (from llama-index-llms-opal==0.3.0) (0.25.0)\n",
      "Requirement already satisfied: llama-index-core>=0.10.55 in /home/sergei/.local/lib/python3.10/site-packages (from llama-index-llms-opal==0.3.0) (0.11.16)\n",
      "Requirement already satisfied: llama-index>=0.10.55 in /home/sergei/.local/lib/python3.10/site-packages (from llama-index-llms-opal==0.3.0) (0.11.16)\n",
      "Requirement already satisfied: llama-index-agent-openai<0.4.0,>=0.3.4 in /home/sergei/.local/lib/python3.10/site-packages (from llama-index>=0.10.55->llama-index-llms-opal==0.3.0) (0.3.4)\n",
      "Requirement already satisfied: llama-index-cli<0.4.0,>=0.3.1 in /home/sergei/.local/lib/python3.10/site-packages (from llama-index>=0.10.55->llama-index-llms-opal==0.3.0) (0.3.1)\n",
      "Requirement already satisfied: llama-index-embeddings-openai<0.3.0,>=0.2.4 in /home/sergei/.local/lib/python3.10/site-packages (from llama-index>=0.10.55->llama-index-llms-opal==0.3.0) (0.2.5)\n",
      "Requirement already satisfied: llama-index-indices-managed-llama-cloud>=0.3.0 in /home/sergei/.local/lib/python3.10/site-packages (from llama-index>=0.10.55->llama-index-llms-opal==0.3.0) (0.4.0)\n",
      "Requirement already satisfied: llama-index-legacy<0.10.0,>=0.9.48 in /home/sergei/.local/lib/python3.10/site-packages (from llama-index>=0.10.55->llama-index-llms-opal==0.3.0) (0.9.48)\n",
      "Requirement already satisfied: llama-index-llms-openai<0.3.0,>=0.2.10 in /home/sergei/.local/lib/python3.10/site-packages (from llama-index>=0.10.55->llama-index-llms-opal==0.3.0) (0.2.11)\n",
      "Requirement already satisfied: llama-index-multi-modal-llms-openai<0.3.0,>=0.2.0 in /home/sergei/.local/lib/python3.10/site-packages (from llama-index>=0.10.55->llama-index-llms-opal==0.3.0) (0.2.2)\n",
      "Requirement already satisfied: llama-index-program-openai<0.3.0,>=0.2.0 in /home/sergei/.local/lib/python3.10/site-packages (from llama-index>=0.10.55->llama-index-llms-opal==0.3.0) (0.2.0)\n",
      "Requirement already satisfied: llama-index-question-gen-openai<0.3.0,>=0.2.0 in /home/sergei/.local/lib/python3.10/site-packages (from llama-index>=0.10.55->llama-index-llms-opal==0.3.0) (0.2.0)\n",
      "Requirement already satisfied: llama-index-readers-file<0.3.0,>=0.2.0 in /home/sergei/.local/lib/python3.10/site-packages (from llama-index>=0.10.55->llama-index-llms-opal==0.3.0) (0.2.2)\n",
      "Requirement already satisfied: llama-index-readers-llama-parse>=0.3.0 in /home/sergei/.local/lib/python3.10/site-packages (from llama-index>=0.10.55->llama-index-llms-opal==0.3.0) (0.3.0)\n",
      "Requirement already satisfied: nltk>3.8.1 in /home/sergei/.local/lib/python3.10/site-packages (from llama-index>=0.10.55->llama-index-llms-opal==0.3.0) (3.9.1)\n",
      "Requirement already satisfied: PyYAML>=6.0.1 in /home/sergei/.local/lib/python3.10/site-packages (from llama-index-core>=0.10.55->llama-index-llms-opal==0.3.0) (6.0.1)\n",
      "Requirement already satisfied: SQLAlchemy>=1.4.49 in /home/sergei/.local/lib/python3.10/site-packages (from SQLAlchemy[asyncio]>=1.4.49->llama-index-core>=0.10.55->llama-index-llms-opal==0.3.0) (2.0.20)\n",
      "Requirement already satisfied: aiohttp<4.0.0,>=3.8.6 in /home/sergei/.local/lib/python3.10/site-packages (from llama-index-core>=0.10.55->llama-index-llms-opal==0.3.0) (3.9.5)\n",
      "Requirement already satisfied: dataclasses-json in /home/sergei/.local/lib/python3.10/site-packages (from llama-index-core>=0.10.55->llama-index-llms-opal==0.3.0) (0.5.14)\n",
      "Requirement already satisfied: deprecated>=1.2.9.3 in /home/sergei/.local/lib/python3.10/site-packages (from llama-index-core>=0.10.55->llama-index-llms-opal==0.3.0) (1.2.14)\n",
      "Requirement already satisfied: dirtyjson<2.0.0,>=1.0.8 in /home/sergei/.local/lib/python3.10/site-packages (from llama-index-core>=0.10.55->llama-index-llms-opal==0.3.0) (1.0.8)\n",
      "Requirement already satisfied: fsspec>=2023.5.0 in /home/sergei/.local/lib/python3.10/site-packages (from llama-index-core>=0.10.55->llama-index-llms-opal==0.3.0) (2023.9.0)\n",
      "Requirement already satisfied: nest-asyncio<2.0.0,>=1.5.8 in /home/sergei/.local/lib/python3.10/site-packages (from llama-index-core>=0.10.55->llama-index-llms-opal==0.3.0) (1.6.0)\n",
      "Requirement already satisfied: networkx>=3.0 in /home/sergei/.local/lib/python3.10/site-packages (from llama-index-core>=0.10.55->llama-index-llms-opal==0.3.0) (3.3)\n",
      "Requirement already satisfied: numpy<2.0.0 in /home/sergei/.local/lib/python3.10/site-packages (from llama-index-core>=0.10.55->llama-index-llms-opal==0.3.0) (1.24.4)\n",
      "Requirement already satisfied: pillow>=9.0.0 in /usr/lib/python3/dist-packages (from llama-index-core>=0.10.55->llama-index-llms-opal==0.3.0) (9.0.1)\n",
      "Requirement already satisfied: pydantic<3.0.0,>=2.7.0 in /home/sergei/.local/lib/python3.10/site-packages (from llama-index-core>=0.10.55->llama-index-llms-opal==0.3.0) (2.9.2)\n",
      "Requirement already satisfied: requests>=2.31.0 in /home/sergei/.local/lib/python3.10/site-packages (from llama-index-core>=0.10.55->llama-index-llms-opal==0.3.0) (2.31.0)\n",
      "Requirement already satisfied: tenacity!=8.4.0,<9.0.0,>=8.2.0 in /home/sergei/.local/lib/python3.10/site-packages (from llama-index-core>=0.10.55->llama-index-llms-opal==0.3.0) (8.2.3)\n",
      "Requirement already satisfied: tiktoken>=0.3.3 in /home/sergei/.local/lib/python3.10/site-packages (from llama-index-core>=0.10.55->llama-index-llms-opal==0.3.0) (0.7.0)\n",
      "Requirement already satisfied: tqdm<5.0.0,>=4.66.1 in /home/sergei/.local/lib/python3.10/site-packages (from llama-index-core>=0.10.55->llama-index-llms-opal==0.3.0) (4.66.1)\n",
      "Requirement already satisfied: typing-extensions>=4.5.0 in /home/sergei/.local/lib/python3.10/site-packages (from llama-index-core>=0.10.55->llama-index-llms-opal==0.3.0) (4.12.2)\n",
      "Requirement already satisfied: typing-inspect>=0.8.0 in /home/sergei/.local/lib/python3.10/site-packages (from llama-index-core>=0.10.55->llama-index-llms-opal==0.3.0) (0.9.0)\n",
      "Requirement already satisfied: wrapt in /home/sergei/.local/lib/python3.10/site-packages (from llama-index-core>=0.10.55->llama-index-llms-opal==0.3.0) (1.16.0)\n",
      "Requirement already satisfied: certifi in /home/sergei/.local/lib/python3.10/site-packages (from httpx->llama-index-llms-opal==0.3.0) (2023.7.22)\n",
      "Requirement already satisfied: httpcore<0.19.0,>=0.18.0 in /home/sergei/.local/lib/python3.10/site-packages (from httpx->llama-index-llms-opal==0.3.0) (0.18.0)\n",
      "Requirement already satisfied: idna in /home/sergei/.local/lib/python3.10/site-packages (from httpx->llama-index-llms-opal==0.3.0) (3.4)\n",
      "Requirement already satisfied: sniffio in /home/sergei/.local/lib/python3.10/site-packages (from httpx->llama-index-llms-opal==0.3.0) (1.3.0)\n",
      "Requirement already satisfied: aiosignal>=1.1.2 in /home/sergei/.local/lib/python3.10/site-packages (from aiohttp<4.0.0,>=3.8.6->llama-index-core>=0.10.55->llama-index-llms-opal==0.3.0) (1.3.1)\n",
      "Requirement already satisfied: attrs>=17.3.0 in /home/sergei/.local/lib/python3.10/site-packages (from aiohttp<4.0.0,>=3.8.6->llama-index-core>=0.10.55->llama-index-llms-opal==0.3.0) (23.1.0)\n",
      "Requirement already satisfied: frozenlist>=1.1.1 in /home/sergei/.local/lib/python3.10/site-packages (from aiohttp<4.0.0,>=3.8.6->llama-index-core>=0.10.55->llama-index-llms-opal==0.3.0) (1.4.0)\n",
      "Requirement already satisfied: multidict<7.0,>=4.5 in /home/sergei/.local/lib/python3.10/site-packages (from aiohttp<4.0.0,>=3.8.6->llama-index-core>=0.10.55->llama-index-llms-opal==0.3.0) (6.0.4)\n",
      "Requirement already satisfied: yarl<2.0,>=1.0 in /home/sergei/.local/lib/python3.10/site-packages (from aiohttp<4.0.0,>=3.8.6->llama-index-core>=0.10.55->llama-index-llms-opal==0.3.0) (1.9.2)\n",
      "Requirement already satisfied: async-timeout<5.0,>=4.0 in /home/sergei/.local/lib/python3.10/site-packages (from aiohttp<4.0.0,>=3.8.6->llama-index-core>=0.10.55->llama-index-llms-opal==0.3.0) (4.0.3)\n",
      "Requirement already satisfied: anyio<5.0,>=3.0 in /home/sergei/.local/lib/python3.10/site-packages (from httpcore<0.19.0,>=0.18.0->httpx->llama-index-llms-opal==0.3.0) (4.0.0)\n",
      "Requirement already satisfied: h11<0.15,>=0.13 in /home/sergei/.local/lib/python3.10/site-packages (from httpcore<0.19.0,>=0.18.0->httpx->llama-index-llms-opal==0.3.0) (0.14.0)\n",
      "Requirement already satisfied: openai>=1.14.0 in /home/sergei/.local/lib/python3.10/site-packages (from llama-index-agent-openai<0.4.0,>=0.3.4->llama-index>=0.10.55->llama-index-llms-opal==0.3.0) (1.51.0)\n",
      "Requirement already satisfied: llama-cloud>=0.0.11 in /home/sergei/.local/lib/python3.10/site-packages (from llama-index-indices-managed-llama-cloud>=0.3.0->llama-index>=0.10.55->llama-index-llms-opal==0.3.0) (0.1.2)\n",
      "Requirement already satisfied: pandas in /home/sergei/.local/lib/python3.10/site-packages (from llama-index-legacy<0.10.0,>=0.9.48->llama-index>=0.10.55->llama-index-llms-opal==0.3.0) (2.1.0)\n",
      "Requirement already satisfied: beautifulsoup4<5.0.0,>=4.12.3 in /home/sergei/.local/lib/python3.10/site-packages (from llama-index-readers-file<0.3.0,>=0.2.0->llama-index>=0.10.55->llama-index-llms-opal==0.3.0) (4.12.3)\n",
      "Requirement already satisfied: pypdf<5.0.0,>=4.0.1 in /home/sergei/.local/lib/python3.10/site-packages (from llama-index-readers-file<0.3.0,>=0.2.0->llama-index>=0.10.55->llama-index-llms-opal==0.3.0) (4.3.1)\n",
      "Requirement already satisfied: striprtf<0.0.27,>=0.0.26 in /home/sergei/.local/lib/python3.10/site-packages (from llama-index-readers-file<0.3.0,>=0.2.0->llama-index>=0.10.55->llama-index-llms-opal==0.3.0) (0.0.26)\n",
      "Requirement already satisfied: llama-parse>=0.5.0 in /home/sergei/.local/lib/python3.10/site-packages (from llama-index-readers-llama-parse>=0.3.0->llama-index>=0.10.55->llama-index-llms-opal==0.3.0) (0.5.7)\n",
      "Requirement already satisfied: click in /home/sergei/.local/lib/python3.10/site-packages (from nltk>3.8.1->llama-index>=0.10.55->llama-index-llms-opal==0.3.0) (8.1.7)\n",
      "Requirement already satisfied: joblib in /home/sergei/.local/lib/python3.10/site-packages (from nltk>3.8.1->llama-index>=0.10.55->llama-index-llms-opal==0.3.0) (1.3.2)\n",
      "Requirement already satisfied: regex>=2021.8.3 in /home/sergei/.local/lib/python3.10/site-packages (from nltk>3.8.1->llama-index>=0.10.55->llama-index-llms-opal==0.3.0) (2023.8.8)\n",
      "Requirement already satisfied: annotated-types>=0.6.0 in /home/sergei/.local/lib/python3.10/site-packages (from pydantic<3.0.0,>=2.7.0->llama-index-core>=0.10.55->llama-index-llms-opal==0.3.0) (0.7.0)\n",
      "Requirement already satisfied: pydantic-core==2.23.4 in /home/sergei/.local/lib/python3.10/site-packages (from pydantic<3.0.0,>=2.7.0->llama-index-core>=0.10.55->llama-index-llms-opal==0.3.0) (2.23.4)\n",
      "Requirement already satisfied: charset-normalizer<4,>=2 in /home/sergei/.local/lib/python3.10/site-packages (from requests>=2.31.0->llama-index-core>=0.10.55->llama-index-llms-opal==0.3.0) (3.2.0)\n",
      "Requirement already satisfied: urllib3<3,>=1.21.1 in /usr/lib/python3/dist-packages (from requests>=2.31.0->llama-index-core>=0.10.55->llama-index-llms-opal==0.3.0) (1.26.5)\n",
      "Requirement already satisfied: greenlet!=0.4.17 in /home/sergei/.local/lib/python3.10/site-packages (from SQLAlchemy>=1.4.49->SQLAlchemy[asyncio]>=1.4.49->llama-index-core>=0.10.55->llama-index-llms-opal==0.3.0) (2.0.2)\n",
      "Requirement already satisfied: mypy-extensions>=0.3.0 in /home/sergei/.local/lib/python3.10/site-packages (from typing-inspect>=0.8.0->llama-index-core>=0.10.55->llama-index-llms-opal==0.3.0) (1.0.0)\n",
      "Requirement already satisfied: marshmallow<4.0.0,>=3.18.0 in /home/sergei/.local/lib/python3.10/site-packages (from dataclasses-json->llama-index-core>=0.10.55->llama-index-llms-opal==0.3.0) (3.20.1)\n",
      "Requirement already satisfied: exceptiongroup>=1.0.2 in /home/sergei/.local/lib/python3.10/site-packages (from anyio<5.0,>=3.0->httpcore<0.19.0,>=0.18.0->httpx->llama-index-llms-opal==0.3.0) (1.1.3)\n",
      "Requirement already satisfied: soupsieve>1.2 in /home/sergei/.local/lib/python3.10/site-packages (from beautifulsoup4<5.0.0,>=4.12.3->llama-index-readers-file<0.3.0,>=0.2.0->llama-index>=0.10.55->llama-index-llms-opal==0.3.0) (2.5)\n",
      "Requirement already satisfied: packaging>=17.0 in /home/sergei/.local/lib/python3.10/site-packages (from marshmallow<4.0.0,>=3.18.0->dataclasses-json->llama-index-core>=0.10.55->llama-index-llms-opal==0.3.0) (23.2)\n",
      "Requirement already satisfied: distro<2,>=1.7.0 in /usr/lib/python3/dist-packages (from openai>=1.14.0->llama-index-agent-openai<0.4.0,>=0.3.4->llama-index>=0.10.55->llama-index-llms-opal==0.3.0) (1.7.0)\n",
      "Requirement already satisfied: jiter<1,>=0.4.0 in /home/sergei/.local/lib/python3.10/site-packages (from openai>=1.14.0->llama-index-agent-openai<0.4.0,>=0.3.4->llama-index>=0.10.55->llama-index-llms-opal==0.3.0) (0.5.0)\n",
      "Requirement already satisfied: python-dateutil>=2.8.2 in /home/sergei/.local/lib/python3.10/site-packages (from pandas->llama-index-legacy<0.10.0,>=0.9.48->llama-index>=0.10.55->llama-index-llms-opal==0.3.0) (2.8.2)\n",
      "Requirement already satisfied: pytz>=2020.1 in /home/sergei/.local/lib/python3.10/site-packages (from pandas->llama-index-legacy<0.10.0,>=0.9.48->llama-index>=0.10.55->llama-index-llms-opal==0.3.0) (2023.3.post1)\n",
      "Requirement already satisfied: tzdata>=2022.1 in /home/sergei/.local/lib/python3.10/site-packages (from pandas->llama-index-legacy<0.10.0,>=0.9.48->llama-index>=0.10.55->llama-index-llms-opal==0.3.0) (2023.3)\n",
      "Requirement already satisfied: six>=1.5 in /usr/lib/python3/dist-packages (from python-dateutil>=2.8.2->pandas->llama-index-legacy<0.10.0,>=0.9.48->llama-index>=0.10.55->llama-index-llms-opal==0.3.0) (1.16.0)\n",
      "Building wheels for collected packages: llama-index-llms-opal\n",
      "  Building wheel for llama-index-llms-opal (setup.py) ... \u001b[?25ldone\n",
      "\u001b[?25h  Created wheel for llama-index-llms-opal: filename=llama_index_llms_opal-0.3.0-py3-none-any.whl size=7485 sha256=d7a64da2dcd8b48feb961ad78f52aaebd305d10b1a8ecd7424ff6a9fb929003a\n",
      "  Stored in directory: /tmp/pip-ephem-wheel-cache-3zrrdrec/wheels/b0/26/6a/bfdc41316e384e23651cbd8c5fbd78af0c03cc4945934afe9e\n",
      "Successfully built llama-index-llms-opal\n",
      "Installing collected packages: llama-index-llms-opal\n",
      "  Attempting uninstall: llama-index-llms-opal\n",
      "    Found existing installation: llama-index-llms-opal 0.2.0\n",
      "    Uninstalling llama-index-llms-opal-0.2.0:\n",
      "      Successfully uninstalled llama-index-llms-opal-0.2.0\n",
      "Successfully installed llama-index-llms-opal-0.3.0\n",
      "\n",
      "\u001b[1m[\u001b[0m\u001b[34;49mnotice\u001b[0m\u001b[1;39;49m]\u001b[0m\u001b[39;49m A new release of pip is available: \u001b[0m\u001b[31;49m24.0\u001b[0m\u001b[39;49m -> \u001b[0m\u001b[32;49m24.2\u001b[0m\n",
      "\u001b[1m[\u001b[0m\u001b[34;49mnotice\u001b[0m\u001b[1;39;49m]\u001b[0m\u001b[39;49m To update, run: \u001b[0m\u001b[32;49mpip install --upgrade pip\u001b[0m\n",
      "\n",
      "\u001b[1m[\u001b[0m\u001b[34;49mnotice\u001b[0m\u001b[1;39;49m]\u001b[0m\u001b[39;49m A new release of pip is available: \u001b[0m\u001b[31;49m24.0\u001b[0m\u001b[39;49m -> \u001b[0m\u001b[32;49m24.2\u001b[0m\n",
      "\u001b[1m[\u001b[0m\u001b[34;49mnotice\u001b[0m\u001b[1;39;49m]\u001b[0m\u001b[39;49m To update, run: \u001b[0m\u001b[32;49mpip install --upgrade pip\u001b[0m\n"
     ]
    }
   ],
   "source": [
    "! pip install --upgrade git+https://github.com/OpenLinkSoftware/llama-index-llms-opal.git\n",
    "! pip install llama-index>=0.10.55"
   ]
  },
  {
   "cell_type": "code",
   "execution_count": 1,
   "metadata": {},
   "outputs": [
    {
     "name": "stdout",
     "output_type": "stream",
     "text": [
      "id= asst_WYmfuZNFb7DEmLmaoS0WohzZ  name= Virtuoso Support\n",
      "id= asst_clvslKFP66fYr9071Eb8iV8Q  name= Data Twingler\n",
      "id= asst_CIx4iIZsFh0eXJuUdvPkknai  name= Virtuoso Help\n",
      "id= asst_9SnDtlNwgiKGlB6qPW03umwK  name= Facet Browser\n",
      "id= asst_f31hzuQd2WdW8zMNh4UDs3AZ  name= Code Commenter\n",
      "id= asst_b1jN9IRfQpDBiOcK0Uaq0oSe  name= VirtDocs\n",
      "id= asst_0lxUCBpjHvizxBYj5XIajKnD  name= UDA Support\n",
      "id= asst_DK8YFhTviAHXYHA58RVXuHG6  name= Virtuoso Support FS\n",
      "id= asst_mQArllXRQitD6FZn37rvb6cJ  name= KI Test Assistant\n",
      "id= asst_UQj20z2dmj0BZYdP4UVD3mhx  name= New Virtuoso Support Assistant\n",
      "id= asst_8E2zmHm7hGNxHxFHQVI0GxAb  name= New Virtuoso Support Assistant\n",
      "id= asst_DXoIUdAdgtqJXaMQcYFHxpb3  name= Test\n",
      "id= asst_GzosFHBtZXfJ1CQgdKEo3p9c  name= Code Clone\n",
      "id= asst_IcfB5bT1ep4SQW5vbNFChnX4  name= Default\n",
      "id= asst_4iKvyqdYM4pECWn0CfLDhovD  name= Test Virtuoso Assistant\n",
      "id= asst_j8xqQEIioNWIimS5YphFtbqj  name= My OPML & RSS Reader\n",
      "id= asst_3gg6fcbkidGbtYnQalF0wNoA  name= Test assistant(QA)\n",
      "id= asst_Ef9NvSXp2omoUxmMD3OyOpXL  name= My OPML & RSS Reader\n",
      "id= asst_fR9VMkHn8iLlqJm3GiH4mqhI  name= Virtuoso Support Assistant -- KI New\n",
      "id= asst_W8ptEIHALd6Ol1G4sN7p4CjW  name= New UDA Support Assistant\n",
      "id= asst_u7m6FaJw1meeWr6hwvcfuAsQ  name= New OpenLink Support Assistant\n",
      "id= asst_ZY0qwGRAwsSNYrNHLqdI7Xxe  name= Test OPML & RSS Reader \n",
      "id= asst_2cj8h4trjtuNGwX9R7uQRYdM  name= PDF Reader Assistant\n"
     ]
    }
   ],
   "source": [
    "import os\n",
    "os.environ[\"OPENAI_API_KEY\"] = \"sk-xxxxxxxxxxxxxxxxxx\"\n",
    "os.environ[\"OPENLINK_API_KEY\"] = \"xxxxxxxxxxxxxxxxxxxxxxxxxxxxxxxxxxxxx\"\n",
    "\n",
    "\n",
    "from llama_index_opal import OPAL_Assistant, get_OPAL_assistants_list\n",
    "\n",
    "# print list of Assistants\n",
    "lst = get_OPAL_assistants_list()\n",
    "for x in lst:\n",
    "    print(f\"id= {x['id']}  name= {x['name']}\")\n"
   ]
  },
  {
   "cell_type": "code",
   "execution_count": 2,
   "metadata": {},
   "outputs": [
    {
     "name": "stdout",
     "output_type": "stream",
     "text": [
      "Paul Graham is a computer scientist, entrepreneur, and author. He is best known for co-founding Viaweb, which was one of the first web-based applications and later acquired by Yahoo. He is also a co-founder of Y Combinator, a startup accelerator that has funded numerous successful startups. Additionally, Graham is known for his essays on technology, startups, and programming.\n"
     ]
    }
   ],
   "source": [
    "llm = OPAL_Assistant()\n",
    "resp = llm.complete(\"Paul Graham is\")\n",
    "print(resp)\n"
   ]
  }
 ],
 "metadata": {
  "kernelspec": {
   "display_name": "Python 3",
   "language": "python",
   "name": "python3"
  },
  "language_info": {
   "codemirror_mode": {
    "name": "ipython",
    "version": 3
   },
   "file_extension": ".py",
   "mimetype": "text/x-python",
   "name": "python",
   "nbconvert_exporter": "python",
   "pygments_lexer": "ipython3",
   "version": "3.10.12"
  }
 },
 "nbformat": 4,
 "nbformat_minor": 2
}
