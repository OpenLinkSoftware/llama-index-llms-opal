{
  "nbformat": 4,
  "nbformat_minor": 0,
  "metadata": {
    "colab": {
      "provenance": []
    },
    "kernelspec": {
      "name": "python3",
      "display_name": "Python 3"
    },
    "language_info": {
      "name": "python"
    }
  },
  "cells": [
    {
      "cell_type": "code",
      "execution_count": 1,
      "metadata": {
        "colab": {
          "base_uri": "https://localhost:8080/"
        },
        "id": "f8wDbTeYNJ2F",
        "outputId": "38948096-53cb-466b-ba6e-91a016398518"
      },
      "outputs": [
        {
          "output_type": "stream",
          "name": "stdout",
          "text": [
            "Collecting git+https://github.com/OpenLinkSoftware/llama-index-llms-opal.git\n",
            "  Cloning https://github.com/OpenLinkSoftware/llama-index-llms-opal.git to /tmp/pip-req-build-5s42rccc\n",
            "  Running command git clone --filter=blob:none --quiet https://github.com/OpenLinkSoftware/llama-index-llms-opal.git /tmp/pip-req-build-5s42rccc\n",
            "  Resolved https://github.com/OpenLinkSoftware/llama-index-llms-opal.git to commit 1a16255da4843a930cf2e3a424dd4c2e0ea6ce33\n",
            "  Preparing metadata (setup.py) ... \u001b[?25l\u001b[?25hdone\n",
            "Collecting llama-index-core>=0.10.55 (from llama-index-llms-opal==0.2.0)\n",
            "  Downloading llama_index_core-0.10.59-py3-none-any.whl.metadata (2.4 kB)\n",
            "Collecting httpx (from llama-index-llms-opal==0.2.0)\n",
            "  Downloading httpx-0.27.0-py3-none-any.whl.metadata (7.2 kB)\n",
            "Requirement already satisfied: PyYAML>=6.0.1 in /usr/local/lib/python3.10/dist-packages (from llama-index-core>=0.10.55->llama-index-llms-opal==0.2.0) (6.0.1)\n",
            "Requirement already satisfied: SQLAlchemy>=1.4.49 in /usr/local/lib/python3.10/dist-packages (from SQLAlchemy[asyncio]>=1.4.49->llama-index-core>=0.10.55->llama-index-llms-opal==0.2.0) (2.0.31)\n",
            "Requirement already satisfied: aiohttp<4.0.0,>=3.8.6 in /usr/local/lib/python3.10/dist-packages (from llama-index-core>=0.10.55->llama-index-llms-opal==0.2.0) (3.9.5)\n",
            "Collecting dataclasses-json (from llama-index-core>=0.10.55->llama-index-llms-opal==0.2.0)\n",
            "  Downloading dataclasses_json-0.6.7-py3-none-any.whl.metadata (25 kB)\n",
            "Collecting deprecated>=1.2.9.3 (from llama-index-core>=0.10.55->llama-index-llms-opal==0.2.0)\n",
            "  Downloading Deprecated-1.2.14-py2.py3-none-any.whl.metadata (5.4 kB)\n",
            "Collecting dirtyjson<2.0.0,>=1.0.8 (from llama-index-core>=0.10.55->llama-index-llms-opal==0.2.0)\n",
            "  Downloading dirtyjson-1.0.8-py3-none-any.whl.metadata (11 kB)\n",
            "Requirement already satisfied: fsspec>=2023.5.0 in /usr/local/lib/python3.10/dist-packages (from llama-index-core>=0.10.55->llama-index-llms-opal==0.2.0) (2024.6.1)\n",
            "Requirement already satisfied: nest-asyncio<2.0.0,>=1.5.8 in /usr/local/lib/python3.10/dist-packages (from llama-index-core>=0.10.55->llama-index-llms-opal==0.2.0) (1.6.0)\n",
            "Requirement already satisfied: networkx>=3.0 in /usr/local/lib/python3.10/dist-packages (from llama-index-core>=0.10.55->llama-index-llms-opal==0.2.0) (3.3)\n",
            "Requirement already satisfied: nltk<4.0.0,>=3.8.1 in /usr/local/lib/python3.10/dist-packages (from llama-index-core>=0.10.55->llama-index-llms-opal==0.2.0) (3.8.1)\n",
            "Requirement already satisfied: numpy<2.0.0 in /usr/local/lib/python3.10/dist-packages (from llama-index-core>=0.10.55->llama-index-llms-opal==0.2.0) (1.26.4)\n",
            "Collecting openai>=1.1.0 (from llama-index-core>=0.10.55->llama-index-llms-opal==0.2.0)\n",
            "  Downloading openai-1.37.1-py3-none-any.whl.metadata (22 kB)\n",
            "Requirement already satisfied: pandas in /usr/local/lib/python3.10/dist-packages (from llama-index-core>=0.10.55->llama-index-llms-opal==0.2.0) (2.1.4)\n",
            "Requirement already satisfied: pillow>=9.0.0 in /usr/local/lib/python3.10/dist-packages (from llama-index-core>=0.10.55->llama-index-llms-opal==0.2.0) (9.4.0)\n",
            "Requirement already satisfied: requests>=2.31.0 in /usr/local/lib/python3.10/dist-packages (from llama-index-core>=0.10.55->llama-index-llms-opal==0.2.0) (2.31.0)\n",
            "Collecting tenacity!=8.4.0,<9.0.0,>=8.2.0 (from llama-index-core>=0.10.55->llama-index-llms-opal==0.2.0)\n",
            "  Downloading tenacity-8.5.0-py3-none-any.whl.metadata (1.2 kB)\n",
            "Collecting tiktoken>=0.3.3 (from llama-index-core>=0.10.55->llama-index-llms-opal==0.2.0)\n",
            "  Downloading tiktoken-0.7.0-cp310-cp310-manylinux_2_17_x86_64.manylinux2014_x86_64.whl.metadata (6.6 kB)\n",
            "Requirement already satisfied: tqdm<5.0.0,>=4.66.1 in /usr/local/lib/python3.10/dist-packages (from llama-index-core>=0.10.55->llama-index-llms-opal==0.2.0) (4.66.4)\n",
            "Requirement already satisfied: typing-extensions>=4.5.0 in /usr/local/lib/python3.10/dist-packages (from llama-index-core>=0.10.55->llama-index-llms-opal==0.2.0) (4.12.2)\n",
            "Collecting typing-inspect>=0.8.0 (from llama-index-core>=0.10.55->llama-index-llms-opal==0.2.0)\n",
            "  Downloading typing_inspect-0.9.0-py3-none-any.whl.metadata (1.5 kB)\n",
            "Requirement already satisfied: wrapt in /usr/local/lib/python3.10/dist-packages (from llama-index-core>=0.10.55->llama-index-llms-opal==0.2.0) (1.16.0)\n",
            "Requirement already satisfied: anyio in /usr/local/lib/python3.10/dist-packages (from httpx->llama-index-llms-opal==0.2.0) (3.7.1)\n",
            "Requirement already satisfied: certifi in /usr/local/lib/python3.10/dist-packages (from httpx->llama-index-llms-opal==0.2.0) (2024.7.4)\n",
            "Collecting httpcore==1.* (from httpx->llama-index-llms-opal==0.2.0)\n",
            "  Downloading httpcore-1.0.5-py3-none-any.whl.metadata (20 kB)\n",
            "Requirement already satisfied: idna in /usr/local/lib/python3.10/dist-packages (from httpx->llama-index-llms-opal==0.2.0) (3.7)\n",
            "Requirement already satisfied: sniffio in /usr/local/lib/python3.10/dist-packages (from httpx->llama-index-llms-opal==0.2.0) (1.3.1)\n",
            "Collecting h11<0.15,>=0.13 (from httpcore==1.*->httpx->llama-index-llms-opal==0.2.0)\n",
            "  Downloading h11-0.14.0-py3-none-any.whl.metadata (8.2 kB)\n",
            "Requirement already satisfied: aiosignal>=1.1.2 in /usr/local/lib/python3.10/dist-packages (from aiohttp<4.0.0,>=3.8.6->llama-index-core>=0.10.55->llama-index-llms-opal==0.2.0) (1.3.1)\n",
            "Requirement already satisfied: attrs>=17.3.0 in /usr/local/lib/python3.10/dist-packages (from aiohttp<4.0.0,>=3.8.6->llama-index-core>=0.10.55->llama-index-llms-opal==0.2.0) (23.2.0)\n",
            "Requirement already satisfied: frozenlist>=1.1.1 in /usr/local/lib/python3.10/dist-packages (from aiohttp<4.0.0,>=3.8.6->llama-index-core>=0.10.55->llama-index-llms-opal==0.2.0) (1.4.1)\n",
            "Requirement already satisfied: multidict<7.0,>=4.5 in /usr/local/lib/python3.10/dist-packages (from aiohttp<4.0.0,>=3.8.6->llama-index-core>=0.10.55->llama-index-llms-opal==0.2.0) (6.0.5)\n",
            "Requirement already satisfied: yarl<2.0,>=1.0 in /usr/local/lib/python3.10/dist-packages (from aiohttp<4.0.0,>=3.8.6->llama-index-core>=0.10.55->llama-index-llms-opal==0.2.0) (1.9.4)\n",
            "Requirement already satisfied: async-timeout<5.0,>=4.0 in /usr/local/lib/python3.10/dist-packages (from aiohttp<4.0.0,>=3.8.6->llama-index-core>=0.10.55->llama-index-llms-opal==0.2.0) (4.0.3)\n",
            "Requirement already satisfied: click in /usr/local/lib/python3.10/dist-packages (from nltk<4.0.0,>=3.8.1->llama-index-core>=0.10.55->llama-index-llms-opal==0.2.0) (8.1.7)\n",
            "Requirement already satisfied: joblib in /usr/local/lib/python3.10/dist-packages (from nltk<4.0.0,>=3.8.1->llama-index-core>=0.10.55->llama-index-llms-opal==0.2.0) (1.4.2)\n",
            "Requirement already satisfied: regex>=2021.8.3 in /usr/local/lib/python3.10/dist-packages (from nltk<4.0.0,>=3.8.1->llama-index-core>=0.10.55->llama-index-llms-opal==0.2.0) (2024.5.15)\n",
            "Requirement already satisfied: distro<2,>=1.7.0 in /usr/lib/python3/dist-packages (from openai>=1.1.0->llama-index-core>=0.10.55->llama-index-llms-opal==0.2.0) (1.7.0)\n",
            "Requirement already satisfied: pydantic<3,>=1.9.0 in /usr/local/lib/python3.10/dist-packages (from openai>=1.1.0->llama-index-core>=0.10.55->llama-index-llms-opal==0.2.0) (2.8.2)\n",
            "Requirement already satisfied: exceptiongroup in /usr/local/lib/python3.10/dist-packages (from anyio->httpx->llama-index-llms-opal==0.2.0) (1.2.2)\n",
            "Requirement already satisfied: charset-normalizer<4,>=2 in /usr/local/lib/python3.10/dist-packages (from requests>=2.31.0->llama-index-core>=0.10.55->llama-index-llms-opal==0.2.0) (3.3.2)\n",
            "Requirement already satisfied: urllib3<3,>=1.21.1 in /usr/local/lib/python3.10/dist-packages (from requests>=2.31.0->llama-index-core>=0.10.55->llama-index-llms-opal==0.2.0) (2.0.7)\n",
            "Requirement already satisfied: greenlet!=0.4.17 in /usr/local/lib/python3.10/dist-packages (from SQLAlchemy>=1.4.49->SQLAlchemy[asyncio]>=1.4.49->llama-index-core>=0.10.55->llama-index-llms-opal==0.2.0) (3.0.3)\n",
            "Collecting mypy-extensions>=0.3.0 (from typing-inspect>=0.8.0->llama-index-core>=0.10.55->llama-index-llms-opal==0.2.0)\n",
            "  Downloading mypy_extensions-1.0.0-py3-none-any.whl.metadata (1.1 kB)\n",
            "Collecting marshmallow<4.0.0,>=3.18.0 (from dataclasses-json->llama-index-core>=0.10.55->llama-index-llms-opal==0.2.0)\n",
            "  Downloading marshmallow-3.21.3-py3-none-any.whl.metadata (7.1 kB)\n",
            "Requirement already satisfied: python-dateutil>=2.8.2 in /usr/local/lib/python3.10/dist-packages (from pandas->llama-index-core>=0.10.55->llama-index-llms-opal==0.2.0) (2.8.2)\n",
            "Requirement already satisfied: pytz>=2020.1 in /usr/local/lib/python3.10/dist-packages (from pandas->llama-index-core>=0.10.55->llama-index-llms-opal==0.2.0) (2024.1)\n",
            "Requirement already satisfied: tzdata>=2022.1 in /usr/local/lib/python3.10/dist-packages (from pandas->llama-index-core>=0.10.55->llama-index-llms-opal==0.2.0) (2024.1)\n",
            "Requirement already satisfied: packaging>=17.0 in /usr/local/lib/python3.10/dist-packages (from marshmallow<4.0.0,>=3.18.0->dataclasses-json->llama-index-core>=0.10.55->llama-index-llms-opal==0.2.0) (24.1)\n",
            "Requirement already satisfied: annotated-types>=0.4.0 in /usr/local/lib/python3.10/dist-packages (from pydantic<3,>=1.9.0->openai>=1.1.0->llama-index-core>=0.10.55->llama-index-llms-opal==0.2.0) (0.7.0)\n",
            "Requirement already satisfied: pydantic-core==2.20.1 in /usr/local/lib/python3.10/dist-packages (from pydantic<3,>=1.9.0->openai>=1.1.0->llama-index-core>=0.10.55->llama-index-llms-opal==0.2.0) (2.20.1)\n",
            "Requirement already satisfied: six>=1.5 in /usr/local/lib/python3.10/dist-packages (from python-dateutil>=2.8.2->pandas->llama-index-core>=0.10.55->llama-index-llms-opal==0.2.0) (1.16.0)\n",
            "Downloading llama_index_core-0.10.59-py3-none-any.whl (15.5 MB)\n",
            "\u001b[2K   \u001b[90m━━━━━━━━━━━━━━━━━━━━━━━━━━━━━━━━━━━━━━━━\u001b[0m \u001b[32m15.5/15.5 MB\u001b[0m \u001b[31m57.5 MB/s\u001b[0m eta \u001b[36m0:00:00\u001b[0m\n",
            "\u001b[?25hDownloading httpx-0.27.0-py3-none-any.whl (75 kB)\n",
            "\u001b[2K   \u001b[90m━━━━━━━━━━━━━━━━━━━━━━━━━━━━━━━━━━━━━━━━\u001b[0m \u001b[32m75.6/75.6 kB\u001b[0m \u001b[31m5.3 MB/s\u001b[0m eta \u001b[36m0:00:00\u001b[0m\n",
            "\u001b[?25hDownloading httpcore-1.0.5-py3-none-any.whl (77 kB)\n",
            "\u001b[2K   \u001b[90m━━━━━━━━━━━━━━━━━━━━━━━━━━━━━━━━━━━━━━━━\u001b[0m \u001b[32m77.9/77.9 kB\u001b[0m \u001b[31m5.5 MB/s\u001b[0m eta \u001b[36m0:00:00\u001b[0m\n",
            "\u001b[?25hDownloading Deprecated-1.2.14-py2.py3-none-any.whl (9.6 kB)\n",
            "Downloading dirtyjson-1.0.8-py3-none-any.whl (25 kB)\n",
            "Downloading openai-1.37.1-py3-none-any.whl (337 kB)\n",
            "\u001b[2K   \u001b[90m━━━━━━━━━━━━━━━━━━━━━━━━━━━━━━━━━━━━━━━━\u001b[0m \u001b[32m337.0/337.0 kB\u001b[0m \u001b[31m19.3 MB/s\u001b[0m eta \u001b[36m0:00:00\u001b[0m\n",
            "\u001b[?25hDownloading tenacity-8.5.0-py3-none-any.whl (28 kB)\n",
            "Downloading tiktoken-0.7.0-cp310-cp310-manylinux_2_17_x86_64.manylinux2014_x86_64.whl (1.1 MB)\n",
            "\u001b[2K   \u001b[90m━━━━━━━━━━━━━━━━━━━━━━━━━━━━━━━━━━━━━━━━\u001b[0m \u001b[32m1.1/1.1 MB\u001b[0m \u001b[31m37.7 MB/s\u001b[0m eta \u001b[36m0:00:00\u001b[0m\n",
            "\u001b[?25hDownloading typing_inspect-0.9.0-py3-none-any.whl (8.8 kB)\n",
            "Downloading dataclasses_json-0.6.7-py3-none-any.whl (28 kB)\n",
            "Downloading h11-0.14.0-py3-none-any.whl (58 kB)\n",
            "\u001b[2K   \u001b[90m━━━━━━━━━━━━━━━━━━━━━━━━━━━━━━━━━━━━━━━━\u001b[0m \u001b[32m58.3/58.3 kB\u001b[0m \u001b[31m3.7 MB/s\u001b[0m eta \u001b[36m0:00:00\u001b[0m\n",
            "\u001b[?25hDownloading marshmallow-3.21.3-py3-none-any.whl (49 kB)\n",
            "\u001b[2K   \u001b[90m━━━━━━━━━━━━━━━━━━━━━━━━━━━━━━━━━━━━━━━━\u001b[0m \u001b[32m49.2/49.2 kB\u001b[0m \u001b[31m3.4 MB/s\u001b[0m eta \u001b[36m0:00:00\u001b[0m\n",
            "\u001b[?25hDownloading mypy_extensions-1.0.0-py3-none-any.whl (4.7 kB)\n",
            "Building wheels for collected packages: llama-index-llms-opal\n",
            "  Building wheel for llama-index-llms-opal (setup.py) ... \u001b[?25l\u001b[?25hdone\n",
            "  Created wheel for llama-index-llms-opal: filename=llama_index_llms_opal-0.2.0-py3-none-any.whl size=6704 sha256=35f8818debd0337b02a30e626e875ab2c2ec7b22814a34f23c8ef29e8b708df3\n",
            "  Stored in directory: /tmp/pip-ephem-wheel-cache-i0oeqene/wheels/b0/26/6a/bfdc41316e384e23651cbd8c5fbd78af0c03cc4945934afe9e\n",
            "Successfully built llama-index-llms-opal\n",
            "Installing collected packages: dirtyjson, tenacity, mypy-extensions, marshmallow, h11, deprecated, typing-inspect, tiktoken, httpcore, httpx, dataclasses-json, openai, llama-index-core, llama-index-llms-opal\n",
            "  Attempting uninstall: tenacity\n",
            "    Found existing installation: tenacity 9.0.0\n",
            "    Uninstalling tenacity-9.0.0:\n",
            "      Successfully uninstalled tenacity-9.0.0\n",
            "Successfully installed dataclasses-json-0.6.7 deprecated-1.2.14 dirtyjson-1.0.8 h11-0.14.0 httpcore-1.0.5 httpx-0.27.0 llama-index-core-0.10.59 llama-index-llms-opal-0.2.0 marshmallow-3.21.3 mypy-extensions-1.0.0 openai-1.37.1 tenacity-8.5.0 tiktoken-0.7.0 typing-inspect-0.9.0\n"
          ]
        }
      ],
      "source": [
        "! pip install git+https://github.com/OpenLinkSoftware/llama-index-llms-opal.git\n",
        "! pip install llama-index>=0.10.55"
      ]
    },
    {
      "cell_type": "code",
      "source": [
        "import os\n",
        "os.environ[\"OPENAI_API_KEY\"] = \"sk-xxxxxxxx\"\n",
        "os.environ[\"OPENLINK_API_KEY\"] = \"xxxxxxxxxx\"\n",
        "\n",
        "from llama_index_opal import OPAL, OPAL_MODELS, OPAL_FUNCTIONS, OPAL_FINETUNES\n",
        "\n",
        "print(\"models = \" + str(OPAL_MODELS))\n",
        "print(\"functions = \" + str(OPAL_FUNCTIONS))\n",
        "print(\"finetunes = \" + str(OPAL_FINETUNES))"
      ],
      "metadata": {
        "colab": {
          "base_uri": "https://localhost:8080/"
        },
        "id": "uTpg6KvVOG0o",
        "outputId": "94496f6d-f187-47ac-b7bb-6868f8da127d"
      },
      "execution_count": 2,
      "outputs": [
        {
          "output_type": "stream",
          "name": "stdout",
          "text": [
            "models = ('gpt-4o', 'gpt-4-vision-preview', 'gpt-4-turbo-preview', 'gpt-4-turbo', 'gpt-4-1106-preview', 'gpt-4-0613', 'gpt-4-0314', 'gpt-4-0125-preview', 'gpt-4', 'gpt-3.5-turbo-16k-0613', 'gpt-3.5-turbo-16k', 'gpt-3.5-turbo-1106', 'gpt-3.5-turbo-0613', 'gpt-3.5-turbo-0301', 'gpt-3.5-turbo-0125', 'gpt-3.5-turbo', 'ft:gpt-3.5-turbo-0125:openlink-software::939ZpZid', 'ft:gpt-3.5-turbo-0125:openlink-software::938VNgt1', 'dall-e-3', 'dall-e-2')\n",
            "functions = ('DB.DBA.graphqlQuery', 'DB.DBA.graphqlEndpointQuery', 'UB.DBA.uda_howto', 'UB.DBA.sparqlQuery', 'DB.DBA.vos_howto_search', 'Demo.demo.execute_sql_query', 'Demo.demo.execute_spasql_query')\n",
            "finetunes = ('system-virtuoso-support-assistant-config', 'system-virtuososupportassistantconfiglast', 'system-uda-support-assistant-config', 'system-udasupportassistantconfigtemp', 'system-www-support-assistant-config', 'system-data-twingler-config')\n"
          ]
        }
      ]
    },
    {
      "cell_type": "code",
      "source": [
        "llm = OPAL(\n",
        "    model=\"gpt-4o\",\n",
        "    finetune=\"system-virtuoso-support-assistant-config\",\n",
        "    funcs_list=[\"DB.DBA.vos_howto_search\",'DB.DBA.vos_howto_search'],\n",
        "    temperature=0.2,\n",
        "    top_p=0.5,\n",
        "    continue_chat=True\n",
        "    )\n",
        "\n",
        "resp = llm.complete(\"How to install Virtuoso DBMS on Linux\")\n",
        "print(resp)"
      ],
      "metadata": {
        "colab": {
          "base_uri": "https://localhost:8080/"
        },
        "id": "g2FG6ZUAOHCv",
        "outputId": "50578e31-a341-414b-d8ab-b6071e95aedc"
      },
      "execution_count": 3,
      "outputs": [
        {
          "output_type": "stream",
          "name": "stdout",
          "text": [
            "To install Virtuoso DBMS on Linux, you can follow the detailed instructions provided in the following resources:\n",
            "\n",
            "1. [VOSNews](http://vos.openlinksw.com/dataspace/owiki/wiki/VOS/VOSNews)\n",
            "2. [VirtPayAsYouGoEBSBackedAMI](http://vos.openlinksw.com/dataspace/owiki/wiki/VOS/VirtPayAsYouGoEBSBackedAMI)\n",
            "3. [VirtDBpediaSnapshotPagoAmi](http://vos.openlinksw.com/dataspace/owiki/wiki/VOS/VirtDBpediaSnapshotPagoAmi)\n",
            "\n",
            "These links contain comprehensive guides and steps to help you with the installation process on a Linux system. If you need further assistance or have specific questions, feel free to ask!\n",
            "\n",
            "<sub>***Note: This response was generated by ChatGPT, without human review or intervention.***</sub>\n"
          ]
        }
      ]
    },
    {
      "cell_type": "code",
      "source": [
        "# it will continue llm session above, because we used parameter   continue_chat=True\n",
        "resp = llm.complete(\"How to install Virtuoso DBMS on Windows\")\n",
        "print(resp)"
      ],
      "metadata": {
        "colab": {
          "base_uri": "https://localhost:8080/"
        },
        "id": "HyI5QdX6OoRK",
        "outputId": "4e836654-eb0f-4c0c-d6ad-27bb99154299"
      },
      "execution_count": 4,
      "outputs": [
        {
          "output_type": "stream",
          "name": "stdout",
          "text": [
            "To install Virtuoso DBMS on Windows, you can refer to the following resources for detailed instructions:\n",
            "\n",
            "1. [VirtAdoNet35Provider](http://vos.openlinksw.com/dataspace/owiki/wiki/VOS/VirtAdoNet35Provider)\n",
            "2. [VirtOJDBCEntityFrameworkUsage](http://vos.openlinksw.com/dataspace/owiki/wiki/VOS/VirtOJDBCEntityFrameworkUsage)\n",
            "3. [VirtDB2EntityFrameworkUsage](http://vos.openlinksw.com/dataspace/owiki/wiki/VOS/VirtDB2EntityFrameworkUsage)\n",
            "4. [VirtOracleEntityFrameworkUsage](http://vos.openlinksw.com/dataspace/owiki/wiki/VOS/VirtOracleEntityFrameworkUsage)\n",
            "5. [VOSNews](http://vos.openlinksw.com/dataspace/owiki/wiki/VOS/VOSNews)\n",
            "\n",
            "These links provide comprehensive guides and steps to help you with the installation process on a Windows system. If you need further assistance or have specific questions, feel free to ask!\n",
            "\n",
            "<sub>***Note: This response was generated by ChatGPT, without human review or intervention.***</sub>\n"
          ]
        }
      ]
    }
  ]
}