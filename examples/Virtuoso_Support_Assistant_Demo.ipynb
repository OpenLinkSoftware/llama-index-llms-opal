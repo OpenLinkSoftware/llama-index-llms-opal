{
 "cells": [
  {
   "cell_type": "markdown",
   "metadata": {},
   "source": [
    "Install necessary packages:\n",
    "\n",
    "```\n",
    "pip install llama-index\n",
    "pip install git+https://github.com/OpenLinkSoftware/llama-index-llms-opal.git\n",
    "```"
   ]
  },
  {
   "cell_type": "code",
   "execution_count": null,
   "metadata": {},
   "outputs": [],
   "source": [
    "! pip install git+https://github.com/OpenLinkSoftware/llama-index-llms-opal.git\n",
    "! pip install llama-index>=0.10.55"
   ]
  },
  {
   "cell_type": "markdown",
   "metadata": {},
   "source": [
    "Initialize OPAL binding to the OpenAI Assistants API."
   ]
  },
  {
   "cell_type": "code",
   "execution_count": 2,
   "metadata": {},
   "outputs": [],
   "source": [
    "import os\n",
    "os.environ[\"OPENAI_API_KEY\"] = \"sk-xxxx\"\n",
    "os.environ[\"OPENLINK_API_KEY\"] = \"xxx\"\n",
    "\n",
    "from llama_index_opal import OPAL_Assistant\n",
    "\n",
    "# Virtuoso Help assistant\n",
    "assistand_id = \"asst_CIx4iIZsFh0eXJuUdvPkknai\"\n",
    "llm = OPAL_Assistant(\n",
    "    assistant_id=assistand_id,\n",
    "    temperature=0.2,\n",
    "    top_p=0.5,\n",
    "    continue_thread=True\n",
    "    )"
   ]
  },
  {
   "cell_type": "markdown",
   "metadata": {},
   "source": [
    "Now that my OPAL environment is successfully initialized, I can list available Agents."
   ]
  },
  {
   "cell_type": "code",
   "execution_count": 3,
   "metadata": {},
   "outputs": [
    {
     "name": "stdout",
     "output_type": "stream",
     "text": [
      "id= asst_WYmfuZNFb7DEmLmaoS0WohzZ  name= Virtuoso Support\n",
      "id= asst_clvslKFP66fYr9071Eb8iV8Q  name= Data Twingler\n",
      "id= asst_CIx4iIZsFh0eXJuUdvPkknai  name= Virtuoso Help\n",
      "id= asst_9SnDtlNwgiKGlB6qPW03umwK  name= Facet Browser\n",
      "id= asst_f31hzuQd2WdW8zMNh4UDs3AZ  name= Code Commenter\n",
      "id= asst_b1jN9IRfQpDBiOcK0Uaq0oSe  name= VirtDocs\n",
      "id= asst_0lxUCBpjHvizxBYj5XIajKnD  name= UDA Support\n",
      "id= asst_DK8YFhTviAHXYHA58RVXuHG6  name= Virtuoso Support FS\n",
      "id= asst_mQArllXRQitD6FZn37rvb6cJ  name= KI Test Assistant\n",
      "id= asst_UQj20z2dmj0BZYdP4UVD3mhx  name= New Virtuoso Support Assistant\n",
      "id= asst_8E2zmHm7hGNxHxFHQVI0GxAb  name= New Virtuoso Support Assistant\n",
      "id= asst_DXoIUdAdgtqJXaMQcYFHxpb3  name= Test\n",
      "id= asst_GzosFHBtZXfJ1CQgdKEo3p9c  name= Code Clone\n",
      "id= asst_IcfB5bT1ep4SQW5vbNFChnX4  name= Default\n",
      "id= asst_4iKvyqdYM4pECWn0CfLDhovD  name= Test Virtuoso Assistant\n",
      "id= asst_j8xqQEIioNWIimS5YphFtbqj  name= My OPML & RSS Reader\n",
      "id= asst_3gg6fcbkidGbtYnQalF0wNoA  name= Test assistant(QA)\n",
      "id= asst_Ef9NvSXp2omoUxmMD3OyOpXL  name= My OPML & RSS Reader\n",
      "id= asst_fR9VMkHn8iLlqJm3GiH4mqhI  name= Virtuoso Support Assistant -- KI New\n",
      "id= asst_W8ptEIHALd6Ol1G4sN7p4CjW  name= New UDA Support Assistant\n",
      "id= asst_u7m6FaJw1meeWr6hwvcfuAsQ  name= New OpenLink Support Assistant\n",
      "id= asst_ZY0qwGRAwsSNYrNHLqdI7Xxe  name= Test OPML & RSS Reader \n",
      "id= asst_2cj8h4trjtuNGwX9R7uQRYdM  name= PDF Reader Assistant\n",
      "id= asst_enVSpbnTzWgmqup9vEjZWV4E  name= New Data Twingler Assistant\n",
      "id= asst_pcnONIrtgLYaIEdbUnTwz8jB  name= New Virtuoso Support Agent MD\n",
      "id= asst_68B8RZR2rMxZateae4ihnJ5A  name= New UDA Support Agent MD\n"
     ]
    }
   ],
   "source": [
    "from llama_index_opal import OPAL_Assistant, get_OPAL_assistants_list\n",
    "\n",
    "# print list of Assistants\n",
    "lst = get_OPAL_assistants_list()\n",
    "for x in lst:\n",
    "    print(f\"id= {x['id']}  name= {x['name']}\")"
   ]
  },
  {
   "cell_type": "markdown",
   "metadata": {},
   "source": [
    "Initializing Virtuoso Support Agent for continued Conversational Interactions via OpenAI's Assistants API."
   ]
  },
  {
   "cell_type": "code",
   "execution_count": 16,
   "metadata": {},
   "outputs": [],
   "source": [
    "# Virtuoso Support Agent \n",
    "assistand_id = \"asst_pcnONIrtgLYaIEdbUnTwz8jB\"\n",
    "llm = OPAL_Assistant(\n",
    "    assistant_id=assistand_id,\n",
    "    temperature=0.2,\n",
    "    top_p=0.5,\n",
    "    continue_thread=True\n",
    "    )"
   ]
  },
  {
   "cell_type": "code",
   "execution_count": null,
   "metadata": {},
   "outputs": [],
   "source": [
    "resp = llm.complete(\"Who are you and what's your version?\")\n",
    "print(resp)"
   ]
  },
  {
   "cell_type": "code",
   "execution_count": null,
   "metadata": {},
   "outputs": [],
   "source": [
    "resp = llm.complete(\"What is Virtuoso, and why is it important?\")\n",
    "print(resp)"
   ]
  },
  {
   "cell_type": "code",
   "execution_count": null,
   "metadata": {},
   "outputs": [],
   "source": [
    "resp = llm.complete(\"How do I install Virtuoso DBMS on macOS?\")\n",
    "print(resp)"
   ]
  },
  {
   "cell_type": "code",
   "execution_count": null,
   "metadata": {},
   "outputs": [],
   "source": [
    "resp = llm.complete(\"What's the cheapest Virtuoso online offer?\")\n",
    "print(resp)"
   ]
  },
  {
   "cell_type": "code",
   "execution_count": null,
   "metadata": {},
   "outputs": [],
   "source": [
    "resp = llm.complete(\"What's the most expensive Virtuoso online offer?\")\n",
    "print(resp)"
   ]
  },
  {
   "cell_type": "markdown",
   "metadata": {},
   "source": [
    "Data Twingler Agent Initialization for continued Conversational Interactions via OpenAI's Assistants API."
   ]
  },
  {
   "cell_type": "code",
   "execution_count": 6,
   "metadata": {},
   "outputs": [],
   "source": [
    "assistand_id = \"asst_enVSpbnTzWgmqup9vEjZWV4E\"\n",
    "llm = OPAL_Assistant(\n",
    "    assistant_id=assistand_id,\n",
    "    temperature=0.2,\n",
    "    top_p=0.5,\n",
    "    continue_thread=True\n",
    "    )"
   ]
  },
  {
   "cell_type": "code",
   "execution_count": null,
   "metadata": {},
   "outputs": [],
   "source": [
    "resp = llm.complete(\"Using DBpedia, write and execute a SPARQL-FED query that list movies directed by Spike Lee\")\n",
    "print(resp)"
   ]
  },
  {
   "cell_type": "code",
   "execution_count": null,
   "metadata": {},
   "outputs": [],
   "source": [
    "resp = llm.complete(\"Write and execute a sample SQL query.\")\n",
    "print(resp)"
   ]
  },
  {
   "cell_type": "code",
   "execution_count": null,
   "metadata": {},
   "outputs": [],
   "source": [
    "resp = llm.complete(\"Write and execute a sample SPARQL query.\")\n",
    "print(resp)"
   ]
  },
  {
   "cell_type": "code",
   "execution_count": null,
   "metadata": {},
   "outputs": [],
   "source": [
    "resp = llm.complete(\"What query did you execute?\")\n",
    "print(resp)"
   ]
  },
  {
   "cell_type": "code",
   "execution_count": null,
   "metadata": {},
   "outputs": [],
   "source": [
    "resp = llm.complete(\"Write and execute a sample GraphQL query.\")\n",
    "print(resp)"
   ]
  }
 ],
 "metadata": {
  "kernelspec": {
   "display_name": "Python 3",
   "language": "python",
   "name": "python3"
  },
  "language_info": {
   "codemirror_mode": {
    "name": "ipython",
    "version": 3
   },
   "file_extension": ".py",
   "mimetype": "text/x-python",
   "name": "python",
   "nbconvert_exporter": "python",
   "pygments_lexer": "ipython3",
   "version": "3.11.6"
  }
 },
 "nbformat": 4,
 "nbformat_minor": 2
}
